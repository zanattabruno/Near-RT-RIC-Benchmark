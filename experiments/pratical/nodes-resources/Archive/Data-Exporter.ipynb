{
 "cells": [
  {
   "cell_type": "code",
   "execution_count": 13,
   "metadata": {},
   "outputs": [
    {
     "name": "stderr",
     "output_type": "stream",
     "text": [
      "/tmp/ipykernel_1392231/2356647877.py:39: FutureWarning: Dropping of nuisance columns in DataFrame reductions (with 'numeric_only=None') is deprecated; in a future version this will raise TypeError.  Select only valid columns before calling the reduction.\n",
      "  combined_df['avg'] = combined_df.mean(axis=1)\n",
      "/tmp/ipykernel_1392231/2356647877.py:40: FutureWarning: Dropping of nuisance columns in DataFrame reductions (with 'numeric_only=None') is deprecated; in a future version this will raise TypeError.  Select only valid columns before calling the reduction.\n",
      "  combined_df['stderr'] = combined_df.std(axis=1) / np.sqrt(combined_df.count(axis=1))\n",
      "/tmp/ipykernel_1392231/2356647877.py:44: FutureWarning: The frame.append method is deprecated and will be removed from pandas in a future version. Use pandas.concat instead.\n",
      "  aggregated_results = aggregated_results.append(combined_df)\n",
      "/tmp/ipykernel_1392231/2356647877.py:39: FutureWarning: Dropping of nuisance columns in DataFrame reductions (with 'numeric_only=None') is deprecated; in a future version this will raise TypeError.  Select only valid columns before calling the reduction.\n",
      "  combined_df['avg'] = combined_df.mean(axis=1)\n",
      "/tmp/ipykernel_1392231/2356647877.py:40: FutureWarning: Dropping of nuisance columns in DataFrame reductions (with 'numeric_only=None') is deprecated; in a future version this will raise TypeError.  Select only valid columns before calling the reduction.\n",
      "  combined_df['stderr'] = combined_df.std(axis=1) / np.sqrt(combined_df.count(axis=1))\n",
      "/tmp/ipykernel_1392231/2356647877.py:44: FutureWarning: The frame.append method is deprecated and will be removed from pandas in a future version. Use pandas.concat instead.\n",
      "  aggregated_results = aggregated_results.append(combined_df)\n",
      "/tmp/ipykernel_1392231/2356647877.py:39: FutureWarning: Dropping of nuisance columns in DataFrame reductions (with 'numeric_only=None') is deprecated; in a future version this will raise TypeError.  Select only valid columns before calling the reduction.\n",
      "  combined_df['avg'] = combined_df.mean(axis=1)\n",
      "/tmp/ipykernel_1392231/2356647877.py:40: FutureWarning: Dropping of nuisance columns in DataFrame reductions (with 'numeric_only=None') is deprecated; in a future version this will raise TypeError.  Select only valid columns before calling the reduction.\n",
      "  combined_df['stderr'] = combined_df.std(axis=1) / np.sqrt(combined_df.count(axis=1))\n",
      "/tmp/ipykernel_1392231/2356647877.py:44: FutureWarning: The frame.append method is deprecated and will be removed from pandas in a future version. Use pandas.concat instead.\n",
      "  aggregated_results = aggregated_results.append(combined_df)\n",
      "/tmp/ipykernel_1392231/2356647877.py:39: FutureWarning: Dropping of nuisance columns in DataFrame reductions (with 'numeric_only=None') is deprecated; in a future version this will raise TypeError.  Select only valid columns before calling the reduction.\n",
      "  combined_df['avg'] = combined_df.mean(axis=1)\n",
      "/tmp/ipykernel_1392231/2356647877.py:40: FutureWarning: Dropping of nuisance columns in DataFrame reductions (with 'numeric_only=None') is deprecated; in a future version this will raise TypeError.  Select only valid columns before calling the reduction.\n",
      "  combined_df['stderr'] = combined_df.std(axis=1) / np.sqrt(combined_df.count(axis=1))\n",
      "/tmp/ipykernel_1392231/2356647877.py:44: FutureWarning: The frame.append method is deprecated and will be removed from pandas in a future version. Use pandas.concat instead.\n",
      "  aggregated_results = aggregated_results.append(combined_df)\n",
      "/tmp/ipykernel_1392231/2356647877.py:39: FutureWarning: Dropping of nuisance columns in DataFrame reductions (with 'numeric_only=None') is deprecated; in a future version this will raise TypeError.  Select only valid columns before calling the reduction.\n",
      "  combined_df['avg'] = combined_df.mean(axis=1)\n",
      "/tmp/ipykernel_1392231/2356647877.py:40: FutureWarning: Dropping of nuisance columns in DataFrame reductions (with 'numeric_only=None') is deprecated; in a future version this will raise TypeError.  Select only valid columns before calling the reduction.\n",
      "  combined_df['stderr'] = combined_df.std(axis=1) / np.sqrt(combined_df.count(axis=1))\n",
      "/tmp/ipykernel_1392231/2356647877.py:44: FutureWarning: The frame.append method is deprecated and will be removed from pandas in a future version. Use pandas.concat instead.\n",
      "  aggregated_results = aggregated_results.append(combined_df)\n"
     ]
    }
   ],
   "source": [
    "from prometheus_pandas import query\n",
    "import pandas as pd\n",
    "from datetime import datetime, timedelta\n",
    "import pytz\n",
    "import numpy as np\n",
    "\n",
    "# Get current UTC time\n",
    "current_time = datetime.now(pytz.utc)\n",
    "\n",
    "# Set end time as current time\n",
    "end = current_time.strftime('%Y-%m-%dT%H:%M:%SZ')\n",
    "\n",
    "# Set start time as 5 minutes before the current time\n",
    "start = (current_time - timedelta(minutes=5)).strftime('%Y-%m-%dT%H:%M:%SZ')\n",
    "\n",
    "p = query.Prometheus('http://r4-infrastructure-prometheus-server.ricplt.svc.cluster.local:80')\n",
    "\n",
    "# Initialize a DataFrame to store the aggregated results\n",
    "aggregated_results = pd.DataFrame()\n",
    "\n",
    "# Loop through each node\n",
    "for node in range(1, 6):\n",
    "    node_name = f'node{node}'\n",
    "\n",
    "    # Query for CPU usage for the specific node\n",
    "    cpu_query = f'sum by (namespace) (rate(container_cpu_usage_seconds_total{{kubernetes_io_hostname=\"{node_name}\"}}[1m]))'\n",
    "    df_pod_cpu = p.query_range(cpu_query, start, end, '10s')\n",
    "    df_pod_cpu['metric'] = 'cpu'\n",
    "\n",
    "    # Query for Memory usage for the specific node\n",
    "    mem_query = f'sum by (namespace) (container_memory_working_set_bytes{{kubernetes_io_hostname=\"{node_name}\"}})'\n",
    "    df_pod_mem = p.query_range(mem_query, start, end, '10s')\n",
    "    df_pod_mem['metric'] = 'memory'\n",
    "\n",
    "    # Combine CPU and Memory data\n",
    "    combined_df = pd.concat([df_pod_cpu, df_pod_mem])\n",
    "\n",
    "    # Calculate average and standard error for each namespace and metric in this node\n",
    "    combined_df['avg'] = combined_df.mean(axis=1)\n",
    "    combined_df['stderr'] = combined_df.std(axis=1) / np.sqrt(combined_df.count(axis=1))\n",
    "    combined_df['node'] = node_name\n",
    "\n",
    "    # Append to the aggregated results\n",
    "    aggregated_results = aggregated_results.append(combined_df)\n",
    "\n",
    "# Save the aggregated results to a CSV file\n",
    "aggregated_results.to_csv(f'{start}-out-pod-cpu-mem-avg-stderr.csv')\n"
   ]
  }
 ],
 "metadata": {
  "kernelspec": {
   "display_name": "Python 3.8.10 ('.venv': venv)",
   "language": "python",
   "name": "python3"
  },
  "language_info": {
   "codemirror_mode": {
    "name": "ipython",
    "version": 3
   },
   "file_extension": ".py",
   "mimetype": "text/x-python",
   "name": "python",
   "nbconvert_exporter": "python",
   "pygments_lexer": "ipython3",
   "version": "3.8.10"
  },
  "orig_nbformat": 4,
  "vscode": {
   "interpreter": {
    "hash": "ce1f71bede5b15bf47bed78e035ce015221e82da5466860647881758aff5786a"
   }
  }
 },
 "nbformat": 4,
 "nbformat_minor": 2
}
