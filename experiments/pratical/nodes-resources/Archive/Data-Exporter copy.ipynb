{
 "cells": [
  {
   "cell_type": "code",
   "execution_count": 11,
   "metadata": {},
   "outputs": [],
   "source": [
    "from prometheus_pandas import query\n",
    "import pandas as pd\n",
    "from datetime import datetime, timedelta\n",
    "import pytz\n",
    "\n",
    "# Get current UTC time\n",
    "current_time = datetime.now(pytz.utc)\n",
    "\n",
    "# Set end time as current time\n",
    "end = current_time.strftime('%Y-%m-%dT%H:%M:%SZ')\n",
    "\n",
    "# Set start time as 5 minutes before the current time\n",
    "start = (current_time - timedelta(minutes=5)).strftime('%Y-%m-%dT%H:%M:%SZ')\n",
    "\n",
    "p = query.Prometheus('http://r4-infrastructure-prometheus-server.ricplt.svc.cluster.local:80')\n",
    "\n",
    "# Loop through each node\n",
    "for node in range(1, 6):\n",
    "    node_name = f'node{node}'\n",
    "\n",
    "    # Query for CPU usage for the specific node\n",
    "    cpu_query = f'sum by (namespace) (rate(container_cpu_usage_seconds_total{{kubernetes_io_hostname=\"{node_name}\"}}[1m]))'\n",
    "    df_pod_cpu = p.query_range(cpu_query, start, end, '10s')\n",
    "    df_pod_cpu['node'] = node_name\n",
    "    df_pod_cpu.to_csv(f'{start}-out-pod-cpu-{node_name}.csv')\n",
    "\n",
    "\n",
    "\n",
    "    #Query for Memory usage for the specific node (if needed)\n",
    "    #Uncomment below lines if you also need memory data per node\n",
    "    mem_query = f'sum by (namespace) (container_memory_working_set_bytes{{kubernetes_io_hostname=\"{node_name}\"}})'\n",
    "    df_pod_mem = p.query_range(mem_query, start, end, '10s')\n",
    "    df_pod_mem.to_csv(f'{start}-out-pod-mem-{node_name}.csv')\n"
   ]
  }
 ],
 "metadata": {
  "kernelspec": {
   "display_name": "Python 3.8.10 ('.venv': venv)",
   "language": "python",
   "name": "python3"
  },
  "language_info": {
   "codemirror_mode": {
    "name": "ipython",
    "version": 3
   },
   "file_extension": ".py",
   "mimetype": "text/x-python",
   "name": "python",
   "nbconvert_exporter": "python",
   "pygments_lexer": "ipython3",
   "version": "3.8.10"
  },
  "orig_nbformat": 4,
  "vscode": {
   "interpreter": {
    "hash": "ce1f71bede5b15bf47bed78e035ce015221e82da5466860647881758aff5786a"
   }
  }
 },
 "nbformat": 4,
 "nbformat_minor": 2
}
