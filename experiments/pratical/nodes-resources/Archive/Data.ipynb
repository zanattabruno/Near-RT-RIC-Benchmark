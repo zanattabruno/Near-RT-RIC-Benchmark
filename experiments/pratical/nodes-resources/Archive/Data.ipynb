{
 "cells": [
  {
   "cell_type": "code",
   "execution_count": null,
   "metadata": {},
   "outputs": [],
   "source": [
    "import pandas as pd\n",
    "import matplotlib.pyplot as plt\n",
    "\n",
    "# Creating a DataFrame from the provided data\n",
    "data_MC = {\n",
    "    \"kube-system\": {\n",
    "        \"avg_cpu\": 0.05246514804523356, \"stddev_cpu\": 0.00022955674968824815,\n",
    "        \"avg_mem\": 65328878.93, \"stddev_mem\": None,  # No stddev provided for memory\n",
    "    },\n",
    "    \"ricplt\": {\n",
    "        \"avg_cpu\": 0.04366757266714815, \"stddev_cpu\": 0.00039710652044135417,\n",
    "        \"avg_mem\": 143911563.63, \"stddev_mem\": None,  # No stddev provided for memory\n",
    "    },\n",
    "    \"ricxapp\": {\n",
    "        \"avg_cpu\": 0.0008900663953866055, \"stddev_cpu\": 0.004358119827541142,\n",
    "        \"avg_mem\": 78585856, \"stddev_mem\": None,  # No stddev provided for memory\n",
    "    }\n",
    "}\n",
    "\n",
    "data_MD = {\n",
    "    \"kube-system\": {\n",
    "        \"avg_cpu_node1\": 0.052854249512496336, \"stddev_cpu_node1\": 0.0005913149296355842,\n",
    "        \"avg_mem_node1\": 66038306.13, \"stddev_mem_node1\": None,  # Standard deviation for memory is not provided\n",
    "        \"avg_cpu_nodeN\": 0.019514768921158113, \"stddev_cpu_nodeN\": 0.0011570768088929701,  # Average and standard deviation for CPU on NodeN are 0 or not provided\n",
    "        \"avg_mem_nodeN\": 37187857.06, \"stddev_mem_nodeN\": None,  # Standard deviation for memory is not provided\n",
    "    },\n",
    "    \"ricplt\": {\n",
    "        \"avg_cpu_node1\": 0.041971579282019465, \"stddev_cpu_node1\": 0.0016815453999193802,\n",
    "        \"avg_mem_node1\": 139749725.65, \"stddev_mem_node1\": None,  # Standard deviation for memory is not provided\n",
    "        \"avg_cpu_nodeN\": 0.0014887758669157424, \"stddev_cpu_nodeN\": 0.00010995452860314736,\n",
    "        \"avg_mem_nodeN\": 17976661.33, \"stddev_mem_nodeN\": None,  # Standard deviation for memory is not provided\n",
    "    },\n",
    "    \"ricxapp\": {\n",
    "        \"avg_cpu_node1\": 0.0004300343993390507, \"stddev_cpu_node1\": 0.00008038639962301168,\n",
    "        \"avg_mem_node1\": 9625600, \"stddev_mem_node1\": None,  # Standard deviation for memory is not provided\n",
    "        \"avg_cpu_nodeN\": None, \"stddev_cpu_nodeN\": None,  # Average and standard deviation for CPU on NodeN are 0 or not provided\n",
    "        \"avg_mem_nodeN\": None, \"stddev_mem_nodeN\": None,  # Average and standard deviation for memory on NodeN are 0 or not provided\n",
    "    }\n",
    "}\n",
    "\n",
    "data_DIS = {\n",
    "    \"kube-system\": {\n",
    "        \"avg_cpu_node1\": 0.05244848346243779, \"stddev_cpu_node1\": 0.00026829243173704954,\n",
    "        \"avg_mem_node1\": 66213341.86, \"stddev_mem_node1\": None,  # Standard deviation for memory is provided as 0\n",
    "        \"avg_cpu_nodeN\": 0.019628694217122957, \"stddev_cpu_nodeN\": 0.00018646931087476867,\n",
    "        \"avg_mem_nodeN\": 39285009.06, \"stddev_mem_nodeN\": None,  # Standard deviation for memory is provided as 0\n",
    "    },\n",
    "    \"ricplt\": {\n",
    "        \"avg_cpu_node1\": 0.04930786073216015, \"stddev_cpu_node1\": 0.0005128092908128262,\n",
    "        \"avg_mem_node1\": 163293291.78, \"stddev_mem_node1\": None,  # Standard deviation for memory is provided as 0\n",
    "        \"avg_cpu_nodeN\": 0.0031126381889326113, \"stddev_cpu_nodeN\": 0.0000332669750525658,\n",
    "        \"avg_mem_nodeN\": 34350421.33, \"stddev_mem_nodeN\": None,  # Standard deviation for memory is provided as 0\n",
    "    },\n",
    "    \"ricxapp\": {\n",
    "        \"avg_cpu_node1\": None, \"stddev_cpu_node1\": None,  # Average and standard deviation for CPU on Node1 are 0 or not provided\n",
    "        \"avg_mem_node1\": None, \"stddev_mem_node1\": None,  # Average and standard deviation for memory on Node1 are 0 or not provided\n",
    "        \"avg_cpu_nodeN\": 0.0007305741421232348, \"stddev_cpu_nodeN\": 0.00010565984988258438,\n",
    "        \"avg_mem_nodeN\": 80923306.66, \"stddev_mem_nodeN\": None, # Standard deviation for memory is provided as 0\n",
    "    }\n",
    "}"
   ]
  }
 ],
 "metadata": {
  "kernelspec": {
   "display_name": "Python 3.8.10 ('.venv': venv)",
   "language": "python",
   "name": "python3"
  },
  "language_info": {
   "codemirror_mode": {
    "name": "ipython",
    "version": 3
   },
   "file_extension": ".py",
   "mimetype": "text/x-python",
   "name": "python",
   "nbconvert_exporter": "python",
   "pygments_lexer": "ipython3",
   "version": "3.8.10"
  },
  "orig_nbformat": 4,
  "vscode": {
   "interpreter": {
    "hash": "ce1f71bede5b15bf47bed78e035ce015221e82da5466860647881758aff5786a"
   }
  }
 },
 "nbformat": 4,
 "nbformat_minor": 2
}
